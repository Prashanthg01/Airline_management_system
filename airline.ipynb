{
 "cells": [
  {
   "cell_type": "code",
   "execution_count": 1,
   "metadata": {},
   "outputs": [],
   "source": [
    "import pandas as pd\n",
    "from IPython.display import display, HTML\n",
    "import ipywidgets as widgets"
   ]
  },
  {
   "cell_type": "code",
   "execution_count": 9,
   "metadata": {},
   "outputs": [
    {
     "data": {
      "application/vnd.jupyter.widget-view+json": {
       "model_id": "2deded6e118647aca45f15574c97e9e1",
       "version_major": 2,
       "version_minor": 0
      },
      "text/plain": [
       "Text(value='', placeholder='Enter Passenger ID')"
      ]
     },
     "metadata": {},
     "output_type": "display_data"
    },
    {
     "data": {
      "application/vnd.jupyter.widget-view+json": {
       "model_id": "929061df49b9495b91fa36a59830cb11",
       "version_major": 2,
       "version_minor": 0
      },
      "text/plain": [
       "Button(description='Get Airline Details', style=ButtonStyle())"
      ]
     },
     "metadata": {},
     "output_type": "display_data"
    }
   ],
   "source": [
    "############ get Passenger Details #################\n",
    "\n",
    "airline_details = pd.read_csv(\"data_files/AirlineDetails.csv\")\n",
    "passenger_details = pd.read_csv(\"data_files/PassengerDetails.csv\")\n",
    "\n",
    "button = widgets.Button(description=\"Get Airline Details\")\n",
    "\n",
    "def on_button_click(b):\n",
    "    passenger_id = input_widget.value\n",
    "    filter_data = passenger_details[passenger_details[\"Passenger_ID\"] == passenger_id]\n",
    "    \n",
    "    if not filter_data.empty:\n",
    "        html_table = filter_data.to_html(index=False)\n",
    "        display(HTML(html_table))\n",
    "    else:\n",
    "        print(\"No data found for the entered Passenger ID.\")\n",
    "\n",
    "button.on_click(on_button_click)\n",
    "\n",
    "input_widget = widgets.Text(placeholder=\"Enter Passenger ID\")\n",
    "\n",
    "display(input_widget)\n",
    "display(button)\n"
   ]
  },
  {
   "cell_type": "code",
   "execution_count": 8,
   "metadata": {},
   "outputs": [
    {
     "data": {
      "application/vnd.jupyter.widget-view+json": {
       "model_id": "7ac97a569b094ca7bd97f6057df0a68c",
       "version_major": 2,
       "version_minor": 0
      },
      "text/plain": [
       "Text(value='', placeholder='Enter Airline ID')"
      ]
     },
     "metadata": {},
     "output_type": "display_data"
    },
    {
     "data": {
      "application/vnd.jupyter.widget-view+json": {
       "model_id": "094bf128a5ef4f5f81ce0192e5c6cf84",
       "version_major": 2,
       "version_minor": 0
      },
      "text/plain": [
       "Button(description='Get Airline Details', style=ButtonStyle())"
      ]
     },
     "metadata": {},
     "output_type": "display_data"
    }
   ],
   "source": [
    "########### Get Airline Details ################\n",
    "\n",
    "airline_details = pd.read_csv(\"data_files/AirlineDetails.csv\")\n",
    "passenger_details = pd.read_csv(\"data_files/PassengerDetails.csv\")\n",
    "\n",
    "button2 = widgets.Button(description=\"Get Airline Details\")\n",
    "\n",
    "def on_button_click(b):\n",
    "    airline_id = input_widget2.value\n",
    "\n",
    "    filter_airline_data = airline_details[airline_details[\"Airline_ID\"] == airline_id]\n",
    "\n",
    "    if not filter_airline_data.empty:\n",
    "        html_table2 = filter_airline_data.to_html(index=False)\n",
    "        display(HTML(html_table2))\n",
    "    else:\n",
    "        print(\"No data found for the entered Airline ID.\")\n",
    "\n",
    "button2.on_click(on_button_click)\n",
    "\n",
    "input_widget2 = widgets.Text(placeholder=\"Enter Airline ID\")\n",
    "\n",
    "display(input_widget2)\n",
    "display(button2)\n"
   ]
  },
  {
   "cell_type": "code",
   "execution_count": 7,
   "metadata": {},
   "outputs": [
    {
     "data": {
      "application/vnd.jupyter.widget-view+json": {
       "model_id": "ed7e9719fe5445eba49f290407d7e1f0",
       "version_major": 2,
       "version_minor": 0
      },
      "text/plain": [
       "Text(value='', placeholder='Enter Airline ID')"
      ]
     },
     "metadata": {},
     "output_type": "display_data"
    },
    {
     "data": {
      "application/vnd.jupyter.widget-view+json": {
       "model_id": "86980f0e76d54f7e9a88728251553915",
       "version_major": 2,
       "version_minor": 0
      },
      "text/plain": [
       "Button(description='Get Airline Details', style=ButtonStyle())"
      ]
     },
     "metadata": {},
     "output_type": "display_data"
    }
   ],
   "source": [
    "########### Get complete details ################\n",
    "\n",
    "airline_details = pd.read_csv(\"data_files/AirlineDetails.csv\")\n",
    "passenger_details = pd.read_csv(\"data_files/PassengerDetails.csv\")\n",
    "\n",
    "merged_data = pd.merge(airline_details, passenger_details, on=\"Airline_ID\")\n",
    "\n",
    "button2 = widgets.Button(description=\"Get Airline Details\")\n",
    "\n",
    "def on_button_click(b):\n",
    "    airline_id = input_widget2.value\n",
    "\n",
    "    filter_airline_data = merged_data[merged_data[\"Airline_ID\"] == airline_id]\n",
    "\n",
    "    if not filter_airline_data.empty:\n",
    "        html_table2 = filter_airline_data.to_html(index=False)\n",
    "        display(HTML(html_table2))\n",
    "    else:\n",
    "        print(\"No data found for the entered Airline ID.\")\n",
    "\n",
    "button2.on_click(on_button_click)\n",
    "\n",
    "input_widget2 = widgets.Text(placeholder=\"Enter Airline ID\")\n",
    "\n",
    "display(input_widget2)\n",
    "display(button2)\n"
   ]
  },
  {
   "cell_type": "code",
   "execution_count": 6,
   "metadata": {},
   "outputs": [
    {
     "data": {
      "application/vnd.jupyter.widget-view+json": {
       "model_id": "d00f240195aa44708d0dd01182637a59",
       "version_major": 2,
       "version_minor": 0
      },
      "text/plain": [
       "Button(description='Get complete Data', style=ButtonStyle())"
      ]
     },
     "metadata": {},
     "output_type": "display_data"
    }
   ],
   "source": [
    "############### Get full details #################\n",
    "\n",
    "airline_details = pd.read_csv(\"data_files/AirlineDetails.csv\")\n",
    "passenger_details = pd.read_csv(\"data_files/PassengerDetails.csv\")\n",
    "\n",
    "merged_data = pd.merge(airline_details, passenger_details, on=\"Airline_ID\")\n",
    "\n",
    "button2 = widgets.Button(description=\"Get complete Data\")\n",
    "\n",
    "def on_button_click(b):\n",
    "    display(HTML(merged_data.to_html(index=False)))\n",
    "\n",
    "button2.on_click(on_button_click)\n",
    "\n",
    "input_widget2 = widgets.Text(placeholder=\"Enter Airline ID\")\n",
    "\n",
    "display(button2)\n"
   ]
  },
  {
   "cell_type": "code",
   "execution_count": 5,
   "metadata": {},
   "outputs": [
    {
     "data": {
      "application/vnd.jupyter.widget-view+json": {
       "model_id": "8a5fa7e249c248ffa57aff94a4619207",
       "version_major": 2,
       "version_minor": 0
      },
      "text/plain": [
       "Text(value='', placeholder='Airline ID')"
      ]
     },
     "metadata": {},
     "output_type": "display_data"
    },
    {
     "data": {
      "application/vnd.jupyter.widget-view+json": {
       "model_id": "73086f4af3e241999859b7c534dd9e18",
       "version_major": 2,
       "version_minor": 0
      },
      "text/plain": [
       "Text(value='', placeholder='Passenger ID')"
      ]
     },
     "metadata": {},
     "output_type": "display_data"
    },
    {
     "data": {
      "application/vnd.jupyter.widget-view+json": {
       "model_id": "1ab8a7dd2ddf40908c723b07d8ab8ed9",
       "version_major": 2,
       "version_minor": 0
      },
      "text/plain": [
       "Text(value='', placeholder='Name')"
      ]
     },
     "metadata": {},
     "output_type": "display_data"
    },
    {
     "data": {
      "application/vnd.jupyter.widget-view+json": {
       "model_id": "fee73bb0346e40cf85bace2bc14ac929",
       "version_major": 2,
       "version_minor": 0
      },
      "text/plain": [
       "Text(value='', placeholder='Address')"
      ]
     },
     "metadata": {},
     "output_type": "display_data"
    },
    {
     "data": {
      "application/vnd.jupyter.widget-view+json": {
       "model_id": "ce15152182fe497e835d6e38a83f75dc",
       "version_major": 2,
       "version_minor": 0
      },
      "text/plain": [
       "IntText(value=0)"
      ]
     },
     "metadata": {},
     "output_type": "display_data"
    },
    {
     "data": {
      "application/vnd.jupyter.widget-view+json": {
       "model_id": "80bf5d9dc238417bab5114d761663fb9",
       "version_major": 2,
       "version_minor": 0
      },
      "text/plain": [
       "Text(value='', placeholder='Email')"
      ]
     },
     "metadata": {},
     "output_type": "display_data"
    },
    {
     "data": {
      "application/vnd.jupyter.widget-view+json": {
       "model_id": "4bda00d252b749e5b486ec8bd4771539",
       "version_major": 2,
       "version_minor": 0
      },
      "text/plain": [
       "Text(value='', placeholder='Gender')"
      ]
     },
     "metadata": {},
     "output_type": "display_data"
    },
    {
     "data": {
      "application/vnd.jupyter.widget-view+json": {
       "model_id": "3217d52db3024315b4b2b91ec29e0db6",
       "version_major": 2,
       "version_minor": 0
      },
      "text/plain": [
       "Text(value='', placeholder='Nationality')"
      ]
     },
     "metadata": {},
     "output_type": "display_data"
    },
    {
     "data": {
      "application/vnd.jupyter.widget-view+json": {
       "model_id": "1c36d8deea5b4a3bb96858a971ec424e",
       "version_major": 2,
       "version_minor": 0
      },
      "text/plain": [
       "IntText(value=0)"
      ]
     },
     "metadata": {},
     "output_type": "display_data"
    },
    {
     "data": {
      "application/vnd.jupyter.widget-view+json": {
       "model_id": "bf2ce3a9f4364ceeb70e0c40c25fd814",
       "version_major": 2,
       "version_minor": 0
      },
      "text/plain": [
       "IntText(value=0)"
      ]
     },
     "metadata": {},
     "output_type": "display_data"
    },
    {
     "data": {
      "application/vnd.jupyter.widget-view+json": {
       "model_id": "594ebeecb8ce4c1c9f5f0294d3656e0f",
       "version_major": 2,
       "version_minor": 0
      },
      "text/plain": [
       "Button(description='Submit', style=ButtonStyle())"
      ]
     },
     "metadata": {},
     "output_type": "display_data"
    }
   ],
   "source": [
    "############## New Passenger Registration ##############\n",
    "\n",
    "file_path = \"data_files/PassengerDetails.csv\"\n",
    "passenger_data = pd.read_csv(file_path)\n",
    "\n",
    "airline_id_input = widgets.Text(placeholder=\"Airline ID\")\n",
    "passenger_id_input = widgets.Text(placeholder=\"Passenger ID\")\n",
    "name_input = widgets.Text(placeholder=\"Name\")\n",
    "address_input = widgets.Text(placeholder=\"Address\")\n",
    "phone_number_input = widgets.IntText(placeholder=\"Phone Number\")\n",
    "email_input = widgets.Text(placeholder=\"Email\")\n",
    "gender_input = widgets.Text(placeholder=\"Gender\")\n",
    "nationality_input = widgets.Text(placeholder=\"Nationality\")\n",
    "age_input = widgets.IntText(placeholder=\"Age\")\n",
    "luggage_count_input = widgets.IntText(placeholder=\"Luggage Count\")\n",
    "\n",
    "submit_button = widgets.Button(description=\"Submit\")\n",
    "\n",
    "def on_submit_button_click(b):\n",
    "    new_passenger = {\n",
    "        \"Airline_ID\": airline_id_input.value,\n",
    "        \"Passenger_ID\": passenger_id_input.value,\n",
    "        \"Name\": name_input.value,\n",
    "        \"Address\": address_input.value,\n",
    "        \"Phone_Number\": phone_number_input.value,\n",
    "        \"Email\": email_input.value,\n",
    "        \"Gender\": gender_input.value,\n",
    "        \"Nationality\": nationality_input.value,\n",
    "        \"Age\": age_input.value,\n",
    "        \"Luggage_Count\": luggage_count_input.value\n",
    "    }\n",
    "    \n",
    "    passenger_data.loc[len(passenger_data)] = new_passenger\n",
    "    \n",
    "    passenger_data.to_csv(file_path, index=False)\n",
    "    \n",
    "    print(\"New passenger data added successfully!\")\n",
    "\n",
    "submit_button.on_click(on_submit_button_click)\n",
    "\n",
    "display(airline_id_input, passenger_id_input, name_input, address_input,\n",
    "        phone_number_input, email_input, gender_input, nationality_input,\n",
    "        age_input, luggage_count_input, submit_button)\n"
   ]
  },
  {
   "cell_type": "code",
   "execution_count": 4,
   "metadata": {},
   "outputs": [
    {
     "data": {
      "application/vnd.jupyter.widget-view+json": {
       "model_id": "404260dc5210429e82a771ee291fd0c1",
       "version_major": 2,
       "version_minor": 0
      },
      "text/plain": [
       "Text(value='', placeholder='Airline ID')"
      ]
     },
     "metadata": {},
     "output_type": "display_data"
    },
    {
     "data": {
      "application/vnd.jupyter.widget-view+json": {
       "model_id": "dbbe7bddd9e24356abc8b9b727f9134d",
       "version_major": 2,
       "version_minor": 0
      },
      "text/plain": [
       "Text(value='', placeholder='Airline Name')"
      ]
     },
     "metadata": {},
     "output_type": "display_data"
    },
    {
     "data": {
      "application/vnd.jupyter.widget-view+json": {
       "model_id": "63b1b73ecf4d43058531e66afabf4fba",
       "version_major": 2,
       "version_minor": 0
      },
      "text/plain": [
       "Text(value='', placeholder='Departure Destination')"
      ]
     },
     "metadata": {},
     "output_type": "display_data"
    },
    {
     "data": {
      "application/vnd.jupyter.widget-view+json": {
       "model_id": "6e753b3162e0474792ee4a176de7b802",
       "version_major": 2,
       "version_minor": 0
      },
      "text/plain": [
       "Text(value='', placeholder='Departure')"
      ]
     },
     "metadata": {},
     "output_type": "display_data"
    },
    {
     "data": {
      "application/vnd.jupyter.widget-view+json": {
       "model_id": "e335da9b5d8240ee9ce49efc743617db",
       "version_major": 2,
       "version_minor": 0
      },
      "text/plain": [
       "Text(value='', placeholder='Arrival Destination')"
      ]
     },
     "metadata": {},
     "output_type": "display_data"
    },
    {
     "data": {
      "application/vnd.jupyter.widget-view+json": {
       "model_id": "23ea93b1e03b41c3aa22c65bafe1c59e",
       "version_major": 2,
       "version_minor": 0
      },
      "text/plain": [
       "Text(value='', placeholder='Arrival')"
      ]
     },
     "metadata": {},
     "output_type": "display_data"
    },
    {
     "data": {
      "application/vnd.jupyter.widget-view+json": {
       "model_id": "8e1cd1f12f3f4963bfb54e350613b439",
       "version_major": 2,
       "version_minor": 0
      },
      "text/plain": [
       "FloatText(value=0.0)"
      ]
     },
     "metadata": {},
     "output_type": "display_data"
    },
    {
     "data": {
      "application/vnd.jupyter.widget-view+json": {
       "model_id": "4df03930ec244f69b3fe18645e8bf739",
       "version_major": 2,
       "version_minor": 0
      },
      "text/plain": [
       "IntText(value=0)"
      ]
     },
     "metadata": {},
     "output_type": "display_data"
    },
    {
     "data": {
      "application/vnd.jupyter.widget-view+json": {
       "model_id": "5522455f8ef94ba5bccccb2c40fbcd10",
       "version_major": 2,
       "version_minor": 0
      },
      "text/plain": [
       "Text(value='', placeholder='Status')"
      ]
     },
     "metadata": {},
     "output_type": "display_data"
    },
    {
     "data": {
      "application/vnd.jupyter.widget-view+json": {
       "model_id": "e31e6c75da1e45be9b459d4b334c4075",
       "version_major": 2,
       "version_minor": 0
      },
      "text/plain": [
       "Button(description='Submit', style=ButtonStyle())"
      ]
     },
     "metadata": {},
     "output_type": "display_data"
    }
   ],
   "source": [
    "############# Airline booking ##############\n",
    "\n",
    "import pandas as pd\n",
    "import ipywidgets as widgets\n",
    "from IPython.display import display\n",
    "\n",
    "file_path = \"data_files/AirlineDetails.csv\"\n",
    "data = pd.read_csv(file_path)\n",
    "\n",
    "airline_id_input = widgets.Text(placeholder=\"Airline ID\")\n",
    "airline_name_input = widgets.Text(placeholder=\"Airline Name\")\n",
    "departure_destination_input = widgets.Text(placeholder=\"Departure Destination\")\n",
    "departure_input = widgets.Text(placeholder=\"Departure\")\n",
    "arrival_destination_input = widgets.Text(placeholder=\"Arrival Destination\")\n",
    "arrival_input = widgets.Text(placeholder=\"Arrival\")\n",
    "duration_input = widgets.FloatText(placeholder=\"Duration\")\n",
    "total_seats_input = widgets.IntText(placeholder=\"Total Seats\")\n",
    "status_input = widgets.Text(placeholder=\"Status\")\n",
    "\n",
    "submit_button = widgets.Button(description=\"Submit\")\n",
    "\n",
    "def on_submit_button_click(b):\n",
    "    new_entry = {\n",
    "        \"Airline_ID\": airline_id_input.value,\n",
    "        \"Airline_Name\": airline_name_input.value,\n",
    "        \"Departure_Destination\": departure_destination_input.value,\n",
    "        \"Derparture\": departure_input.value,\n",
    "        \"Arrival_Destination\": arrival_destination_input.value,\n",
    "        \"Arriaval\": arrival_input.value,\n",
    "        \"Duration\": duration_input.value,\n",
    "        \"Total_Seats\": total_seats_input.value,\n",
    "        \"Status\": status_input.value\n",
    "    }\n",
    "\n",
    "    data.loc[len(data)] = new_entry\n",
    "\n",
    "    data.to_csv(file_path, index=False)\n",
    "    \n",
    "    print(\"New entry added successfully!\")\n",
    "\n",
    "submit_button.on_click(on_submit_button_click)\n",
    "\n",
    "display(airline_id_input, airline_name_input, departure_destination_input,\n",
    "        departure_input, arrival_destination_input, arrival_input,\n",
    "        duration_input, total_seats_input, status_input, submit_button)\n"
   ]
  },
  {
   "cell_type": "code",
   "execution_count": 3,
   "metadata": {},
   "outputs": [
    {
     "data": {
      "application/vnd.jupyter.widget-view+json": {
       "model_id": "b727ff37771641d4bd8fdec32dd9c2af",
       "version_major": 2,
       "version_minor": 0
      },
      "text/plain": [
       "Text(value='', placeholder='Passenger ID to Delete')"
      ]
     },
     "metadata": {},
     "output_type": "display_data"
    },
    {
     "data": {
      "application/vnd.jupyter.widget-view+json": {
       "model_id": "1d657641556c43d3a04d3254903518ec",
       "version_major": 2,
       "version_minor": 0
      },
      "text/plain": [
       "Button(description='Delete Passenger', style=ButtonStyle())"
      ]
     },
     "metadata": {},
     "output_type": "display_data"
    },
    {
     "data": {
      "application/vnd.jupyter.widget-view+json": {
       "model_id": "cb565f3e727948228ca080bc808bc2bd",
       "version_major": 2,
       "version_minor": 0
      },
      "text/plain": [
       "Text(value='', placeholder='Passenger ID to Edit')"
      ]
     },
     "metadata": {},
     "output_type": "display_data"
    },
    {
     "data": {
      "application/vnd.jupyter.widget-view+json": {
       "model_id": "9d0c27371f2644c798cc31f212929b62",
       "version_major": 2,
       "version_minor": 0
      },
      "text/plain": [
       "Dropdown(description='Column to Edit:', options=('Airline_ID', 'Passenger_ID', 'Name', 'Address', 'Phone_Numbe…"
      ]
     },
     "metadata": {},
     "output_type": "display_data"
    },
    {
     "data": {
      "application/vnd.jupyter.widget-view+json": {
       "model_id": "efe29c9c176d460a81c8362482871232",
       "version_major": 2,
       "version_minor": 0
      },
      "text/plain": [
       "Text(value='', placeholder='New Value')"
      ]
     },
     "metadata": {},
     "output_type": "display_data"
    },
    {
     "data": {
      "application/vnd.jupyter.widget-view+json": {
       "model_id": "1a2f10e9bc6d45b48ed88a7d36ecb3ae",
       "version_major": 2,
       "version_minor": 0
      },
      "text/plain": [
       "Button(description='Edit Passenger', style=ButtonStyle())"
      ]
     },
     "metadata": {},
     "output_type": "display_data"
    },
    {
     "name": "stdout",
     "output_type": "stream",
     "text": [
      "Passenger with ID BB2563 deleted successfully!\n",
      "Passenger with ID sdsdsd deleted successfully!\n",
      "Passenger with ID DD2563 edited successfully!\n"
     ]
    }
   ],
   "source": [
    "############ Edit and Delete the passenger setails\n",
    "\n",
    "file_path = \"data_files/PassengerDetails.csv\"\n",
    "passenger_data = pd.read_csv(file_path)\n",
    "\n",
    "passenger_id_delete_input = widgets.Text(placeholder=\"Passenger ID to Delete\")\n",
    "passenger_id_edit_input = widgets.Text(placeholder=\"Passenger ID to Edit\")\n",
    "edit_column_input = widgets.Dropdown(\n",
    "    options=passenger_data.columns,\n",
    "    description=\"Column to Edit:\"\n",
    ")\n",
    "new_value_input = widgets.Text(placeholder=\"New Value\")\n",
    "\n",
    "delete_button = widgets.Button(description=\"Delete Passenger\")\n",
    "edit_button = widgets.Button(description=\"Edit Passenger\")\n",
    "\n",
    "def on_delete_button_click(b):\n",
    "    passenger_id = passenger_id_delete_input.value\n",
    "    passenger_data.drop(passenger_data[passenger_data[\"Passenger_ID\"] == passenger_id].index, inplace=True)\n",
    "    passenger_data.to_csv(file_path, index=False)\n",
    "    print(f\"Passenger with ID {passenger_id} deleted successfully!\")\n",
    "\n",
    "def on_edit_button_click(b):\n",
    "    passenger_id = passenger_id_edit_input.value\n",
    "    column_to_edit = edit_column_input.value\n",
    "    new_value = new_value_input.value\n",
    "    \n",
    "    passenger_data.loc[passenger_data[\"Passenger_ID\"] == passenger_id, column_to_edit] = new_value\n",
    "    passenger_data.to_csv(file_path, index=False)\n",
    "    print(f\"Passenger with ID {passenger_id} edited successfully!\")\n",
    "\n",
    "delete_button.on_click(on_delete_button_click)\n",
    "edit_button.on_click(on_edit_button_click)\n",
    "\n",
    "display(passenger_id_delete_input, delete_button)\n",
    "display(passenger_id_edit_input, edit_column_input, new_value_input, edit_button)\n"
   ]
  }
 ],
 "metadata": {
  "kernelspec": {
   "display_name": ".venv",
   "language": "python",
   "name": "python3"
  },
  "language_info": {
   "codemirror_mode": {
    "name": "ipython",
    "version": 3
   },
   "file_extension": ".py",
   "mimetype": "text/x-python",
   "name": "python",
   "nbconvert_exporter": "python",
   "pygments_lexer": "ipython3",
   "version": "3.10.11"
  },
  "orig_nbformat": 4
 },
 "nbformat": 4,
 "nbformat_minor": 2
}
